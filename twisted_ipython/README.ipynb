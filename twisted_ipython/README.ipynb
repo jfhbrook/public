{
  "cells": [
    {
      "cell_type": "markdown",
      "source": [
        "# twisted_ipython\n",
        "\n",
        "An [IPython](https://ipython.org/) extension that uses [crochet](https://github.com/itamarst/crochet) to enable running [Twisted](https://twistedmatrix.com/trac/) in IPython and [Jupyter](https://jupyter.org/) notebooks.\n",
        "\n",
        "## The Problem\n",
        "\n",
        "Traditionally, the IPython REPL has only truly supported synchronous code. However, IPython [shipped support for running coroutines](https://blog.jupyter.org/ipython-7-0-async-repl-a35ce050f7f7) late last year with support for [asyncio](https://docs.python.org/3/library/asyncio.html), [curio](https://github.com/dabeaz/curio) and [trio](https://github.com/python-trio/trio), which is really cool! Unfortunately, it has some limitations.\n",
        "\n",
        "In particular, code deemed to be running in an async format is ran by [taking a paused/not-running event loop, running it long enough to execute the async code, and then pausing the loop](https://github.com/ipython/ipython/blob/master/IPython/core/async_helpers.py#L28). This isn't an unreasonable implementation given that IPython was (as far as I know) not originally factored to run async code at all. It does, however, put us in a bind, because if you try to start the Twisted event loop a second time it will [yell at you and refuse](https://github.com/twisted/twisted/blob/8d18e4f83105822a6bad3698eb41ff2f35d56042/src/twisted/internet/error.py#L419). This is because in a typical application an event loop is kept running throughout the lifetime of that process.\n",
        "\n",
        "## On Integrating With Tornado's Event Loop Directly\n",
        "\n",
        "Tornado, IPython's native async framework, uses asyncio under the hood, so it's possible to install the reactor and interact with it directly. However, this approach has some drawbacks and doesn't support async/await. For more, [open `direct_integration_example.ipynb`](https://github.com/jfhbrook/twisted_ipython/blob/master/direct_integration_example.ipynb).\n",
        "\n",
        "## A Partial Solution\n",
        "\n",
        "[Crochet](https://crochet.readthedocs.io/en/stable/) is a library that runs the Twisted reactor in a thread. This is handy, because our runner implementation ends up being a call to [`ensureDeferred`](https://twistedmatrix.com/documents/current/api/twisted.internet.defer.ensureDeferred.html) wrapped in the [`wait_for`](https://crochet.readthedocs.io/en/stable/api.html#wait-for-blocking-calls-into-twisted) decorator. This means that we can [set up](https://crochet.readthedocs.io/en/stable/api.html#setup) Crochet on extension initialiation, register a small runner to the autoawait magic, and have `%autoawait` support for twisted. In addition, because the loop continues to run in the background, backgrounded tasks will still run once the cell is finished executing. Great!\n",
        "\n",
        "Loading the module and setting up Twisted autoawait once installed looks like this:"
      ],
      "metadata": {}
    },
    {
      "cell_type": "code",
      "source": [
        "%load_ext twisted_ipython\n",
        "%autoawait twisted"
      ],
      "outputs": [],
      "execution_count": 1,
      "metadata": {
        "collapsed": false,
        "outputHidden": false,
        "inputHidden": false
      }
    },
    {
      "cell_type": "markdown",
      "source": [
        "From there we can define a few helpers for our demo:"
      ],
      "metadata": {}
    },
    {
      "cell_type": "code",
      "source": [
        "from twisted.internet import reactor\n",
        "from twisted.internet.defer import Deferred\n",
        "\n",
        "\n",
        "# A little helper for demo-ing awaiting and Deferreds\n",
        "def sleep(t):\n",
        "    d = Deferred()\n",
        "    reactor.callLater(t, d.callback, None)\n",
        "    return d\n",
        "  \n",
        "  \n",
        "# A little helper for demo-ing working display\n",
        "class Shout:\n",
        "    def __init__(self, value):\n",
        "        self.value = value\n",
        "    def _repr_markdown_(self):\n",
        "        return f'# {self.value}'"
      ],
      "outputs": [],
      "execution_count": 2,
      "metadata": {
        "collapsed": false,
        "outputHidden": false,
        "inputHidden": false
      }
    },
    {
      "cell_type": "markdown",
      "source": [
        "and **Check it out: `autoawait` Just Works:**"
      ],
      "metadata": {}
    },
    {
      "cell_type": "code",
      "source": [
        "print('Going to sleep...')\n",
        "\n",
        "await sleep(1)\n",
        "\n",
        "Shout('I HAVE AWAKENED!')"
      ],
      "outputs": [
        {
          "output_type": "stream",
          "name": "stdout",
          "text": [
            "Going to sleep...\n"
          ]
        },
        {
          "output_type": "execute_result",
          "execution_count": 3,
          "data": {
            "text/plain": [
              "<__main__.Shout at 0x7f89284efef0>"
            ],
            "text/markdown": [
              "# I HAVE AWAKENED!"
            ]
          },
          "metadata": {}
        }
      ],
      "execution_count": 3,
      "metadata": {
        "collapsed": false,
        "outputHidden": false,
        "inputHidden": false
      }
    },
    {
      "cell_type": "markdown",
      "source": [
        "## Running Non-Awaiting Code With `crochet.run_in_reactor`\n",
        "\n",
        "In addition to being able to run code with `await`ed results in it, it would be nice if we could also safely run Twisted code that interacts with the reactor but *doesn't* use async/await.\n",
        "\n",
        "Crochet ships with a helper called [`run_in_reactor`](https://crochet.readthedocs.io/en/stable/api.html#run-in-reactor-asynchronous-results) which can decorate wrapper functions so that they can safely interact with the reactor.\n",
        "\n",
        "I support this with a code magic, ``%%run_in_reactor``. What this magic does is a little scary: It intercepts the python code in the cell as text, detects its indentation level, and generates new python code (as text) that wraps the cell in a decorated function. In addition, it allows for taking the end result of a wrapped block (which must use the `return` keyword unlike regular cells) and making the crochet `EventualResult` object available in the namespace. This makes it possible to interact with eventual results without using async/await.\n",
        "\n",
        "Using the magic with this feature looks like this:"
      ],
      "metadata": {}
    },
    {
      "cell_type": "code",
      "source": [
        "%%run_in_reactor result\n",
        "\n",
        "# This runs this non-awaiting code in the correct thread\n",
        "# and allows access to the returned value via crochet's\n",
        "# EventualResult\n",
        "\n",
        "d = sleep(1)\n",
        "\n",
        "d.addCallback(lambda _: Shout('We did it!'))\n",
        "\n",
        "return d"
      ],
      "outputs": [
        {
          "output_type": "execute_result",
          "execution_count": 4,
          "data": {
            "text/plain": [
              "<crochet._eventloop.EventualResult at 0x7f8920322320>"
            ]
          },
          "metadata": {}
        }
      ],
      "execution_count": 4,
      "metadata": {
        "collapsed": false,
        "outputHidden": false,
        "inputHidden": false
      }
    },
    {
      "cell_type": "code",
      "source": [
        "# and we can access that result!\n",
        "\n",
        "result.wait(2)"
      ],
      "outputs": [
        {
          "output_type": "execute_result",
          "execution_count": 5,
          "data": {
            "text/plain": [
              "<__main__.Shout at 0x7f89284942b0>"
            ],
            "text/markdown": [
              "# We did it!"
            ]
          },
          "metadata": {}
        }
      ],
      "execution_count": 5,
      "metadata": {
        "collapsed": false,
        "outputHidden": false,
        "inputHidden": false
      }
    },
    {
      "cell_type": "markdown",
      "source": [
        "## Install\n",
        "\n",
        "This library is [available on pypi](https://pypi.org/project/twisted_ipython/) and can be installed into your notebook's environment using [pip](https://pip.pypa.io/en/stable/). For a more concrete example using [Conda](https://docs.conda.io/en/latest/), check out the developer docs below.\n"
      ],
      "metadata": {}
    },
    {
      "cell_type": "markdown",
      "source": [
        "# Configuration\n",
        "\n",
        "As of now, `twisted_ipython` has one configuration option:\n",
        "\n",
        "* **timeout**: The timeout, in seconds, used for calls to `wait_for` when autoawaiting\n",
        "\n",
        "You can set the configuration using the `twisted_config` magic:"
      ],
      "metadata": {}
    },
    {
      "cell_type": "code",
      "source": [
        "%twisted_config show"
      ],
      "outputs": [
        {
          "output_type": "stream",
          "name": "stdout",
          "text": [
            "timeout=60\n"
          ]
        }
      ],
      "execution_count": 6,
      "metadata": {
        "collapsed": false,
        "outputHidden": false,
        "inputHidden": false
      }
    },
    {
      "cell_type": "code",
      "source": [
        "%twisted_config timeout 1"
      ],
      "outputs": [
        {
          "output_type": "stream",
          "name": "stdout",
          "text": [
            "timeout=1\n"
          ]
        }
      ],
      "execution_count": 7,
      "metadata": {
        "collapsed": false,
        "outputHidden": false,
        "inputHidden": false
      }
    },
    {
      "cell_type": "code",
      "source": [
        "await sleep(2)"
      ],
      "outputs": [
        {
          "output_type": "error",
          "ename": "TimeoutError",
          "evalue": "",
          "traceback": [
            "\u001b[0;31m---------------------------------------------------------------------------\u001b[0m",
            "\u001b[0;31mTimeoutError\u001b[0m                              Traceback (most recent call last)",
            "\u001b[0;32m~/software/jfhbrook/twisted_ipython/twisted_ipython/async_runner.py\u001b[0m in \u001b[0;36mtwisted_runner\u001b[0;34m(coro)\u001b[0m\n\u001b[1;32m     16\u001b[0m         \u001b[0;32mreturn\u001b[0m \u001b[0mensureDeferred\u001b[0m\u001b[0;34m(\u001b[0m\u001b[0mcoro\u001b[0m\u001b[0;34m)\u001b[0m\u001b[0;34m\u001b[0m\u001b[0;34m\u001b[0m\u001b[0m\n\u001b[1;32m     17\u001b[0m \u001b[0;34m\u001b[0m\u001b[0m\n\u001b[0;32m---> 18\u001b[0;31m     \u001b[0;32mreturn\u001b[0m \u001b[0mrun\u001b[0m\u001b[0;34m(\u001b[0m\u001b[0mcoro\u001b[0m\u001b[0;34m)\u001b[0m\u001b[0;34m\u001b[0m\u001b[0;34m\u001b[0m\u001b[0m\n\u001b[0m",
            "\u001b[0;32m~/anaconda3/envs/twisted_ipython/lib/python3.7/site-packages/wrapt/wrappers.py\u001b[0m in \u001b[0;36m__call__\u001b[0;34m(self, *args, **kwargs)\u001b[0m\n\u001b[1;32m    562\u001b[0m \u001b[0;34m\u001b[0m\u001b[0m\n\u001b[1;32m    563\u001b[0m         return self._self_wrapper(self.__wrapped__, self._self_instance,\n\u001b[0;32m--> 564\u001b[0;31m                 args, kwargs)\n\u001b[0m\u001b[1;32m    565\u001b[0m \u001b[0;34m\u001b[0m\u001b[0m\n\u001b[1;32m    566\u001b[0m \u001b[0;32mclass\u001b[0m \u001b[0mBoundFunctionWrapper\u001b[0m\u001b[0;34m(\u001b[0m\u001b[0m_FunctionWrapperBase\u001b[0m\u001b[0;34m)\u001b[0m\u001b[0;34m:\u001b[0m\u001b[0;34m\u001b[0m\u001b[0;34m\u001b[0m\u001b[0m\n",
            "\u001b[0;32m~/anaconda3/envs/twisted_ipython/lib/python3.7/site-packages/crochet/_eventloop.py\u001b[0m in \u001b[0;36mwrapper\u001b[0;34m(function, _, args, kwargs)\u001b[0m\n\u001b[1;32m    508\u001b[0m                 \u001b[0meventual_result\u001b[0m \u001b[0;34m=\u001b[0m \u001b[0mrun\u001b[0m\u001b[0;34m(\u001b[0m\u001b[0;34m)\u001b[0m\u001b[0;34m\u001b[0m\u001b[0;34m\u001b[0m\u001b[0m\n\u001b[1;32m    509\u001b[0m                 \u001b[0;32mtry\u001b[0m\u001b[0;34m:\u001b[0m\u001b[0;34m\u001b[0m\u001b[0;34m\u001b[0m\u001b[0m\n\u001b[0;32m--> 510\u001b[0;31m                     \u001b[0;32mreturn\u001b[0m \u001b[0meventual_result\u001b[0m\u001b[0;34m.\u001b[0m\u001b[0mwait\u001b[0m\u001b[0;34m(\u001b[0m\u001b[0mtimeout\u001b[0m\u001b[0;34m)\u001b[0m\u001b[0;34m\u001b[0m\u001b[0;34m\u001b[0m\u001b[0m\n\u001b[0m\u001b[1;32m    511\u001b[0m                 \u001b[0;32mexcept\u001b[0m \u001b[0mTimeoutError\u001b[0m\u001b[0;34m:\u001b[0m\u001b[0;34m\u001b[0m\u001b[0;34m\u001b[0m\u001b[0m\n\u001b[1;32m    512\u001b[0m                     \u001b[0meventual_result\u001b[0m\u001b[0;34m.\u001b[0m\u001b[0mcancel\u001b[0m\u001b[0;34m(\u001b[0m\u001b[0;34m)\u001b[0m\u001b[0;34m\u001b[0m\u001b[0;34m\u001b[0m\u001b[0m\n",
            "\u001b[0;32m~/anaconda3/envs/twisted_ipython/lib/python3.7/site-packages/crochet/_eventloop.py\u001b[0m in \u001b[0;36mwait\u001b[0;34m(self, timeout)\u001b[0m\n\u001b[1;32m    237\u001b[0m                     \"import time.\")\n\u001b[1;32m    238\u001b[0m \u001b[0;34m\u001b[0m\u001b[0m\n\u001b[0;32m--> 239\u001b[0;31m         \u001b[0mresult\u001b[0m \u001b[0;34m=\u001b[0m \u001b[0mself\u001b[0m\u001b[0;34m.\u001b[0m\u001b[0m_result\u001b[0m\u001b[0;34m(\u001b[0m\u001b[0mtimeout\u001b[0m\u001b[0;34m)\u001b[0m\u001b[0;34m\u001b[0m\u001b[0;34m\u001b[0m\u001b[0m\n\u001b[0m\u001b[1;32m    240\u001b[0m         \u001b[0;32mif\u001b[0m \u001b[0misinstance\u001b[0m\u001b[0;34m(\u001b[0m\u001b[0mresult\u001b[0m\u001b[0;34m,\u001b[0m \u001b[0mFailure\u001b[0m\u001b[0;34m)\u001b[0m\u001b[0;34m:\u001b[0m\u001b[0;34m\u001b[0m\u001b[0;34m\u001b[0m\u001b[0m\n\u001b[1;32m    241\u001b[0m             \u001b[0mresult\u001b[0m\u001b[0;34m.\u001b[0m\u001b[0mraiseException\u001b[0m\u001b[0;34m(\u001b[0m\u001b[0;34m)\u001b[0m\u001b[0;34m\u001b[0m\u001b[0;34m\u001b[0m\u001b[0m\n",
            "\u001b[0;32m~/anaconda3/envs/twisted_ipython/lib/python3.7/site-packages/crochet/_eventloop.py\u001b[0m in \u001b[0;36m_result\u001b[0;34m(self, timeout)\u001b[0m\n\u001b[1;32m    199\u001b[0m         \u001b[0;31m# have to check manually:\u001b[0m\u001b[0;34m\u001b[0m\u001b[0;34m\u001b[0m\u001b[0;34m\u001b[0m\u001b[0m\n\u001b[1;32m    200\u001b[0m         \u001b[0;32mif\u001b[0m \u001b[0;32mnot\u001b[0m \u001b[0mself\u001b[0m\u001b[0;34m.\u001b[0m\u001b[0m_result_set\u001b[0m\u001b[0;34m.\u001b[0m\u001b[0mis_set\u001b[0m\u001b[0;34m(\u001b[0m\u001b[0;34m)\u001b[0m\u001b[0;34m:\u001b[0m\u001b[0;34m\u001b[0m\u001b[0;34m\u001b[0m\u001b[0m\n\u001b[0;32m--> 201\u001b[0;31m             \u001b[0;32mraise\u001b[0m \u001b[0mTimeoutError\u001b[0m\u001b[0;34m(\u001b[0m\u001b[0;34m)\u001b[0m\u001b[0;34m\u001b[0m\u001b[0;34m\u001b[0m\u001b[0m\n\u001b[0m\u001b[1;32m    202\u001b[0m         \u001b[0mself\u001b[0m\u001b[0;34m.\u001b[0m\u001b[0m_result_retrieved\u001b[0m \u001b[0;34m=\u001b[0m \u001b[0;32mTrue\u001b[0m\u001b[0;34m\u001b[0m\u001b[0;34m\u001b[0m\u001b[0m\n\u001b[1;32m    203\u001b[0m         \u001b[0;32mreturn\u001b[0m \u001b[0mself\u001b[0m\u001b[0;34m.\u001b[0m\u001b[0m_value\u001b[0m\u001b[0;34m\u001b[0m\u001b[0;34m\u001b[0m\u001b[0m\n",
            "\u001b[0;31mTimeoutError\u001b[0m: "
          ]
        },
        {
          "output_type": "stream",
          "name": "stderr",
          "text": [
            "ERROR:root:Internal Python error in the inspect module.\n",
            "Below is the traceback from this internal error.\n",
            "\n"
          ]
        },
        {
          "output_type": "stream",
          "name": "stdout",
          "text": [
            "Traceback (most recent call last):\n",
            "  File \"/home/josh/anaconda3/envs/twisted_ipython/lib/python3.7/site-packages/IPython/core/interactiveshell.py\", line 3292, in run_code\n",
            "    last_expr = (yield from self._async_exec(code_obj, self.user_ns))\n",
            "  File \"<ipython-input-8-7ac6c6123586>\", line 4, in async-def-wrapper\n",
            "twisted.internet.defer.CancelledError\n",
            "\n",
            "During handling of the above exception, another exception occurred:\n",
            "\n",
            "Traceback (most recent call last):\n",
            "  File \"/home/josh/anaconda3/envs/twisted_ipython/lib/python3.7/site-packages/IPython/core/interactiveshell.py\", line 2033, in showtraceback\n",
            "    stb = value._render_traceback_()\n",
            "AttributeError: 'CancelledError' object has no attribute '_render_traceback_'\n",
            "\n",
            "During handling of the above exception, another exception occurred:\n",
            "\n",
            "Traceback (most recent call last):\n",
            "  File \"/home/josh/anaconda3/envs/twisted_ipython/lib/python3.7/site-packages/IPython/core/ultratb.py\", line 1095, in get_records\n",
            "    return _fixed_getinnerframes(etb, number_of_lines_of_context, tb_offset)\n",
            "  File \"/home/josh/anaconda3/envs/twisted_ipython/lib/python3.7/site-packages/IPython/core/ultratb.py\", line 313, in wrapped\n",
            "    return f(*args, **kwargs)\n",
            "  File \"/home/josh/anaconda3/envs/twisted_ipython/lib/python3.7/site-packages/IPython/core/ultratb.py\", line 347, in _fixed_getinnerframes\n",
            "    records = fix_frame_records_filenames(inspect.getinnerframes(etb, context))\n",
            "  File \"/home/josh/anaconda3/envs/twisted_ipython/lib/python3.7/inspect.py\", line 1502, in getinnerframes\n",
            "    frameinfo = (tb.tb_frame,) + getframeinfo(tb, context)\n",
            "  File \"/home/josh/anaconda3/envs/twisted_ipython/lib/python3.7/inspect.py\", line 1464, in getframeinfo\n",
            "    lines, lnum = findsource(frame)\n",
            "  File \"/home/josh/anaconda3/envs/twisted_ipython/lib/python3.7/inspect.py\", line 828, in findsource\n",
            "    if pat.match(lines[lnum]): break\n",
            "IndexError: list index out of range\n"
          ]
        },
        {
          "output_type": "error",
          "ename": "CancelledError",
          "evalue": "",
          "traceback": [
            "\u001b[0;31m---------------------------------------------------------------------------\u001b[0m"
          ]
        }
      ],
      "execution_count": 8,
      "metadata": {
        "collapsed": false,
        "outputHidden": false,
        "inputHidden": false
      }
    },
    {
      "cell_type": "markdown",
      "source": [
        "\"Wow that is a heinous traceback!\" you're saying to yourself! [It's a known issue](https://github.com/ipython/ipython/issues/9978), and rest assured that it's the correct error just displayed poorly."
      ],
      "metadata": {}
    },
    {
      "cell_type": "code",
      "source": [
        "%twisted_config reset"
      ],
      "outputs": [
        {
          "output_type": "stream",
          "name": "stdout",
          "text": [
            "timeout=60\n"
          ]
        }
      ],
      "execution_count": 9,
      "metadata": {
        "collapsed": false,
        "outputHidden": false,
        "inputHidden": false
      }
    },
    {
      "cell_type": "markdown",
      "source": [
        "# Help / APIs\n",
        "\n",
        "These help commands work in Jupyter and in IPython, but don't work with nteract, nor do they render into notebooks. The output from IPython is included here for reference."
      ],
      "metadata": {}
    },
    {
      "cell_type": "code",
      "source": [
        "%twisted_config?"
      ],
      "outputs": [],
      "execution_count": null,
      "metadata": {
        "collapsed": false,
        "outputHidden": false,
        "inputHidden": false
      }
    },
    {
      "cell_type": "code",
      "source": [
        "%%bash\n",
        "ipython -c '\n",
        "%load_ext twisted_ipython\n",
        "print(\"\")\n",
        "%twisted_config?\n",
        "'"
      ],
      "outputs": [
        {
          "output_type": "stream",
          "name": "stdout",
          "text": [
            "\u001b]0;IPython: jfhbrook/twisted_ipython\u0007\n",
            "\u001b[0;31mDocstring:\u001b[0m\n",
            "::\n",
            "\n",
            "  %twisted_config key [value]\n",
            "\n",
            "Configure settings for twisted_ipython:\n",
            "\n",
            "- *timeout*: How long to wait for autoawaited twisted code to run\n",
            "  before canceling, in seconds. Defaults to 60. Crochet uses ``2**31``\n",
            "  internally as a deprecated \"basically infinity\" constant, which you\n",
            "  can use yourself by passing in 'INFINITY'.\n",
            "\n",
            "Examples::\n",
            "\n",
            "    # Show the current config\n",
            "    %twisted_config show\n",
            "\n",
            "    # Show just the config for timeout\n",
            "    %twisted_config show timeout\n",
            "\n",
            "    # Set the timeout to 5 seconds\n",
            "    %twisted_config timeout 5\n",
            "\n",
            "    # Reset the config to its default settings\n",
            "    %twisted_config reset\n",
            "\n",
            "positional arguments:\n",
            "  key\n",
            "  value\n",
            "\u001b[0;31mFile:\u001b[0m      ~/software/jfhbrook/twisted_ipython/twisted_ipython/magic.py\n"
          ]
        }
      ],
      "execution_count": 10,
      "metadata": {
        "collapsed": false,
        "outputHidden": false,
        "inputHidden": false
      }
    },
    {
      "cell_type": "code",
      "source": [
        "%%run_in_reactor?"
      ],
      "outputs": [],
      "execution_count": null,
      "metadata": {
        "collapsed": false,
        "outputHidden": false,
        "inputHidden": false
      }
    },
    {
      "cell_type": "code",
      "source": [
        "%%bash\n",
        "ipython -c '\n",
        "%load_ext twisted_ipython\n",
        "print(\"\")\n",
        "%%run_in_reactor?\n",
        "'"
      ],
      "outputs": [
        {
          "output_type": "stream",
          "name": "stdout",
          "text": [
            "\u001b]0;IPython: jfhbrook/twisted_ipython\u0007\n",
            "\u001b[0;31mDocstring:\u001b[0m\n",
            "::\n",
            "\n",
            "  %run_in_reactor [assign]\n",
            "\n",
            "Run the contents of the cell using run_in_reactor_.\n",
            "\n",
            "When this magic is enabled, the cell will get rewritten to::\n",
            "\n",
            "    import crochet\n",
            "\n",
            "    def _cell():\n",
            "        # Your code here\n",
            "\n",
            "    @crochet.run_in_reactor\n",
            "    def _run_in_reactor():\n",
            "        return _cell()\n",
            "\n",
            "    _ = _run_in_reactor()\n",
            "    _\n",
            "\n",
            "``_run_in_reactor`` returns an EventualResult_. The name of the\n",
            "variable that this value gets assigned to can be set as an\n",
            "argument. For instance::\n",
            "\n",
            "    %run_in_reactor result\n",
            "\n",
            "    result.wait(5)\n",
            "\n",
            "For more information, see the documentation for Crochet_.\n",
            "\n",
            ".. _run_in_reactor: https://crochet.readthedocs.io/en/stable/api.html#run-in-reactor-asynchronous-results\n",
            ".. _EventualResult: https://crochet.readthedocs.io/en/stable/api-reference.html#crochet.EventualResult\n",
            ".. _Crochet: https://crochet.readthedocs.io/en/stable/index.html\n",
            "\n",
            "positional arguments:\n",
            "  assign\n",
            "\u001b[0;31mFile:\u001b[0m      ~/software/jfhbrook/twisted_ipython/twisted_ipython/magic.py\n"
          ]
        }
      ],
      "execution_count": 11,
      "metadata": {
        "collapsed": false,
        "outputHidden": false,
        "inputHidden": false
      }
    },
    {
      "cell_type": "markdown",
      "source": [
        "## Development\n",
        "\n",
        "### Setup with Conda and git\n",
        "\n",
        "First, git clone this project:\n",
        "\n",
        "    $ git clone git@github.com:jfhbrook/twisted_ipython.git\n",
        "    $ cd twisted_ipython\n",
        "\n",
        "This project comes with an `environment.yml` which may be used to create a conda environment:\n",
        "\n",
        "    $ conda env create\n",
        "\n",
        "Once the environment is created, you can source it and install the development version of twisted_ipython:\n",
        "\n",
        "    $ conda activate twisted_ipython\n",
        "    $ python setup.py develop\n",
        "\n",
        "Finally, you will need to install this environment as a user kernel:\n",
        "\n",
        "    $ python -m ipykernel install --user --name twisted_ipython\n",
        "\n",
        "Once these steps are complete, you should be able to find a kernel named \"twisted_ipython\" in the appropriate drop-down.\n",
        "\n",
        "## Tests, Linting and Documentation\n",
        "\n",
        "This notebook stands as the test suite as well as the primary source of documentation. Before releasing code, the notebook should be ran from top to bottom without any (unexpected) errors.\n",
        "\n",
        "Linting can be ran using `make`:"
      ],
      "metadata": {}
    },
    {
      "cell_type": "code",
      "source": [
        "!make lint"
      ],
      "outputs": [
        {
          "output_type": "stream",
          "name": "stdout",
          "text": [
            "flake8 ./twisted_ipython/*.py setup.py\r\n"
          ]
        }
      ],
      "execution_count": 12,
      "metadata": {
        "collapsed": false,
        "outputHidden": false,
        "inputHidden": false
      }
    },
    {
      "cell_type": "markdown",
      "source": [
        "Other tasks include `package` and `upload`, which should be ran in-order by me when publishing this project to pypi.\n",
        "\n",
        "## Support\n",
        "\n",
        "Just to set expectations: I'm just one guy that had an itch to scratch. I'll respond to issues and PRs but I don't expect this project to take much of my time. Consider it beta quality software. That said, I plan on using it semi-regularly, so it will hopefully be pretty solid in practice.\n",
        "\n",
        "I develop against python 3.7 but it's likely that this will work for older versions of python as well. Python 2 is explicitly unsupported.\n",
        "\n",
        "I plan to use semver aggressively.\n",
        "\n",
        "## License\n",
        "\n",
        "Like IPython, this is licensed under a 3-clause BSD license with additional restrictions. For more, see the `LICENSE` and `NOTICE` files."
      ],
      "metadata": {}
    }
  ],
  "metadata": {
    "kernel_info": {
      "name": "twisted_ipython"
    },
    "language_info": {
      "name": "python",
      "version": "3.7.2",
      "mimetype": "text/x-python",
      "codemirror_mode": {
        "name": "ipython",
        "version": 3
      },
      "pygments_lexer": "ipython3",
      "nbconvert_exporter": "python",
      "file_extension": ".py"
    },
    "kernelspec": {
      "name": "twisted_ipython",
      "language": "python",
      "display_name": "twisted_ipython"
    },
    "nteract": {
      "version": "0.14.3"
    }
  },
  "nbformat": 4,
  "nbformat_minor": 0
}
