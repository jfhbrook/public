{
  "cells": [
    {
      "cell_type": "markdown",
      "source": [
        "# Twisted and Tornado: An Alternate Approach\n",
        "\n",
        "There is another approach to running Twisted code in a notebook, which is to hook into the tornado event loop. [This is in fact an approach taken by Moshe and Glyph in this webinar on YouTube](https://www.youtube.com/watch?v=XXHbXSawwls).\n",
        "\n",
        "In this notebook I'm going to outline and demo the approach, and show some spots where the behavior of my extension is different/better.\n",
        "\n",
        "## Setup/Install\n",
        "\n",
        "Under the hood, IPython uses Tornado. While the linked video and a lot of Google searches will indicate that the installer is in Tornado, it seems that [Tornado uses asyncio behind the scenes these days](https://github.com/tornadoweb/tornado/issues/2636), which works OK:"
      ],
      "metadata": {}
    },
    {
      "cell_type": "code",
      "source": [
        "from twisted.internet.asyncioreactor import install\n",
        "install()"
      ],
      "outputs": [],
      "execution_count": 1,
      "metadata": {
        "collapsed": false,
        "outputHidden": false,
        "inputHidden": false
      }
    },
    {
      "cell_type": "markdown",
      "source": [
        "Once it's installed, we can import the reactor..."
      ],
      "metadata": {}
    },
    {
      "cell_type": "code",
      "source": [
        "from twisted.internet import reactor"
      ],
      "outputs": [],
      "execution_count": 2,
      "metadata": {
        "collapsed": false,
        "outputHidden": false,
        "inputHidden": false
      }
    },
    {
      "cell_type": "markdown",
      "source": [
        "...and we can interact with it directly. For example:"
      ],
      "metadata": {}
    },
    {
      "cell_type": "code",
      "source": [
        "class NoiseMaker():\n",
        "    tick = 1\n",
        "    \n",
        "    def _loop(self):\n",
        "        if self._running:\n",
        "            print('LOUD NOISES!')\n",
        "            reactor.callLater(self.tick, self._loop)\n",
        "    def start(self):\n",
        "        self._running = True\n",
        "        self._loop()\n",
        "    def stop(self):\n",
        "        self._running = False\n",
        "\n",
        "noisemaker = NoiseMaker()\n",
        "\n",
        "noisemaker.start()"
      ],
      "outputs": [
        {
          "output_type": "stream",
          "name": "stdout",
          "text": [
            "LOUD NOISES!\n",
            "LOUD NOISES!\n",
            "LOUD NOISES!\n",
            "LOUD NOISES!\n",
            "LOUD NOISES!\n",
            "LOUD NOISES!\n",
            "LOUD NOISES!\n",
            "LOUD NOISES!\n",
            "LOUD NOISES!\n",
            "LOUD NOISES!\n",
            "LOUD NOISES!\n",
            "LOUD NOISES!\n",
            "LOUD NOISES!\n",
            "LOUD NOISES!\n",
            "LOUD NOISES!\n",
            "LOUD NOISES!\n",
            "LOUD NOISES!\n",
            "LOUD NOISES!\n",
            "LOUD NOISES!\n",
            "LOUD NOISES!\n"
          ]
        }
      ],
      "execution_count": 3,
      "metadata": {
        "collapsed": false,
        "outputHidden": false,
        "inputHidden": false
      }
    },
    {
      "cell_type": "markdown",
      "source": [
        "IPython evaluates the code block and exits, and our `NoiseMaker` continues printing in the background.\n",
        "\n",
        "Note, however, that IPython can't know where the printed text is coming from, so it dumps the output to whichever cell you last evaluated. For example, if I evaluate the following cell, it will start echoing `LOUD NOISES!`:"
      ],
      "metadata": {}
    },
    {
      "cell_type": "code",
      "source": [
        "print('shhh, this is a library')"
      ],
      "outputs": [
        {
          "output_type": "stream",
          "name": "stdout",
          "text": [
            "shhh, this is a library\n",
            "LOUD NOISES!\n",
            "LOUD NOISES!\n",
            "LOUD NOISES!\n",
            "LOUD NOISES!\n",
            "LOUD NOISES!\n"
          ]
        }
      ],
      "execution_count": 4,
      "metadata": {
        "collapsed": false,
        "outputHidden": false,
        "inputHidden": false
      }
    },
    {
      "cell_type": "markdown",
      "source": [
        "(we'll stop the noisemaker for now)"
      ],
      "metadata": {}
    },
    {
      "cell_type": "code",
      "source": [
        "noisemaker.stop()"
      ],
      "outputs": [],
      "execution_count": 5,
      "metadata": {
        "collapsed": false,
        "outputHidden": false,
        "inputHidden": false
      }
    },
    {
      "cell_type": "markdown",
      "source": [
        "That there isn't a magical library that will fix this problem. If you were to do this inside `run_in_reactor` with Crochet, it would have the same behavior.\n",
        "\n",
        "This isn't the worst thing. Twisted doesn't print to screen by default and in many cases spinning up a server in the background is exactly what you want. If you write code that doesn't run forever in the background like our `NoiseMaker` and you run the cell manually, the output will show up in the right cell in general. It's even possible to get Jupyter to pretty-print objects by calling `display` directly:\n",
        "\n"
      ],
      "metadata": {}
    },
    {
      "cell_type": "code",
      "source": [
        "class Scream:\n",
        "    def __init__(self, value):\n",
        "        self.value = value\n",
        "    def _repr_markdown_(self):\n",
        "        return f'# {self.value}'\n",
        "\n",
        "reactor.callLater(1, display, Scream('AHHHHHHH'))"
      ],
      "outputs": [
        {
          "output_type": "execute_result",
          "execution_count": 6,
          "data": {
            "text/plain": [
              "<DelayedCall 0x7f4afc2bd6d8 [0.9759202460118104s] called=0 cancelled=0 AsyncioSelectorReactor.callLater.<locals>.run()>"
            ]
          },
          "metadata": {}
        },
        {
          "output_type": "display_data",
          "data": {
            "text/plain": [
              "<__main__.Scream at 0x7f4afc2bd5f8>"
            ],
            "text/markdown": [
              "# AHHHHHHH"
            ]
          },
          "metadata": {}
        }
      ],
      "execution_count": 6,
      "metadata": {
        "collapsed": false,
        "outputHidden": false,
        "inputHidden": false
      }
    },
    {
      "cell_type": "markdown",
      "source": [
        "That said, the trick to getting useful output that's guaranteed to stay in its cell is to get IPython to understand where a series of work begins and ends. For a background \"service\" like our `NoiseMaker`, we don't have a lot of great options. For a lot of code, however, we could signal the end of a series of actions with the firing of a Deferred.\n",
        "\n",
        "IPython doesn't support instrumenting Deferreds as such, but it does have some support for running async/await code. If we can get IPython to run Twisted async/await code then we should largely be in business. However, the default event loop used for awaited code, the one from asyncio, doesn't know how to handle awaited Deferreds, so trying this will cause an exception:"
      ],
      "metadata": {}
    },
    {
      "cell_type": "code",
      "source": [
        "from twisted.internet.defer import Deferred\n",
        "\n",
        "def sleep(t):\n",
        "    d = Deferred()\n",
        "    reactor.callLater(t, d.callback, None)\n",
        "    return d"
      ],
      "outputs": [],
      "execution_count": 7,
      "metadata": {
        "collapsed": false,
        "outputHidden": false,
        "inputHidden": false
      }
    },
    {
      "cell_type": "code",
      "source": [
        "print('Going to sleep...')\n",
        "\n",
        "await sleep(1)\n",
        "\n",
        "print('Waking up!')"
      ],
      "outputs": [
        {
          "output_type": "stream",
          "name": "stdout",
          "text": [
            "Going to sleep...\n"
          ]
        },
        {
          "output_type": "error",
          "ename": "RuntimeError",
          "evalue": "Task got bad yield: <Deferred at 0x7f4afcbd6630>",
          "traceback": [
            "\u001b[0;31m---------------------------------------------------------------------------\u001b[0m",
            "\u001b[0;31mRuntimeError\u001b[0m                              Traceback (most recent call last)",
            "\u001b[0;32m<ipython-input-8-a198b7ea8d5a>\u001b[0m in \u001b[0;36masync-def-wrapper\u001b[0;34m()\u001b[0m\n\u001b[1;32m      4\u001b[0m \u001b[0;34m\u001b[0m\u001b[0m\n\u001b[1;32m      5\u001b[0m \u001b[0mprint\u001b[0m\u001b[0;34m(\u001b[0m\u001b[0;34m'Waking up!'\u001b[0m\u001b[0;34m)\u001b[0m\u001b[0;34m\u001b[0m\u001b[0;34m\u001b[0m\u001b[0m\n",
            "\u001b[0;31mRuntimeError\u001b[0m: Task got bad yield: <Deferred at 0x7f4afcbd6630>"
          ]
        }
      ],
      "execution_count": 8,
      "metadata": {
        "collapsed": false,
        "outputHidden": false,
        "inputHidden": false
      }
    },
    {
      "cell_type": "markdown",
      "source": [
        "## So what to do?\n",
        "\n",
        "There are a few options:\n",
        "\n",
        "1. Use [my project](https://github.com/jfhbrook/twisted_ipython/blob/master/README.ipynb) and get async/await in return for having a tougher time calling non-awaited code.\n",
        "2. Use the approach lined out in this notebook and forego async/await in return for being able to interact with the reactor directly.\n",
        "\n",
        "Both of these approaches have advantages and drawbacks and you'll have to weigh them when making this choice."
      ],
      "metadata": {}
    }
  ],
  "metadata": {
    "kernel_info": {
      "name": "twisted_ipython"
    },
    "language_info": {
      "name": "python",
      "version": "3.7.2",
      "mimetype": "text/x-python",
      "codemirror_mode": {
        "name": "ipython",
        "version": 3
      },
      "pygments_lexer": "ipython3",
      "nbconvert_exporter": "python",
      "file_extension": ".py"
    },
    "kernelspec": {
      "name": "twisted_ipython",
      "language": "python",
      "display_name": "twisted_ipython"
    },
    "nteract": {
      "version": "0.14.3"
    }
  },
  "nbformat": 4,
  "nbformat_minor": 0
}